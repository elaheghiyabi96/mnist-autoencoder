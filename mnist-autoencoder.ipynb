{
 "cells": [
  {
   "cell_type": "code",
   "execution_count": 4,
   "metadata": {},
   "outputs": [
    {
     "name": "stdout",
     "output_type": "stream",
     "text": [
      "All training data: (60000, 28, 28, 1)\n",
      "All test data: (10000, 28, 28, 1)\n",
      "Final training data: (42000, 28, 28, 1)\n",
      "Validation data: (18000, 28, 28, 1)\n",
      "Train on 42000 samples, validate on 18000 samples\n",
      "Epoch 1/10\n",
      "42000/42000 [==============================] - 128s 3ms/sample - loss: 0.2081 - val_loss: 0.0852\n",
      "Epoch 2/10\n",
      "42000/42000 [==============================] - 112s 3ms/sample - loss: 0.0784 - val_loss: 0.0739\n",
      "Epoch 3/10\n",
      "42000/42000 [==============================] - 101s 2ms/sample - loss: 0.0720 - val_loss: 0.0706\n",
      "Epoch 4/10\n",
      "42000/42000 [==============================] - 102s 2ms/sample - loss: 0.0698 - val_loss: 0.0692\n",
      "Epoch 5/10\n",
      "42000/42000 [==============================] - 102s 2ms/sample - loss: 0.0686 - val_loss: 0.0683\n",
      "Epoch 6/10\n",
      "42000/42000 [==============================] - 115s 3ms/sample - loss: 0.0678 - val_loss: 0.0675\n",
      "Epoch 7/10\n",
      "42000/42000 [==============================] - 114s 3ms/sample - loss: 0.0672 - val_loss: 0.0670\n",
      "Epoch 8/10\n",
      "42000/42000 [==============================] - 126s 3ms/sample - loss: 0.0667 - val_loss: 0.0666\n",
      "Epoch 9/10\n",
      "42000/42000 [==============================] - 118s 3ms/sample - loss: 0.0663 - val_loss: 0.0664\n",
      "Epoch 10/10\n",
      "42000/42000 [==============================] - 122s 3ms/sample - loss: 0.0660 - val_loss: 0.0662\n"
     ]
    },
    {
     "data": {
      "image/png": "[encoded data removed]",
      "text/plain": [
       "<Figure size 432x288 with 1 Axes>"
      ]
     },
     "metadata": {
      "needs_background": "light"
     },
     "output_type": "display_data"
    },
    {
     "name": "stdout",
     "output_type": "stream",
     "text": [
      "10000/10000 [==============================] - 12s 1ms/sample - loss: 0.06570s - loss: 0.06\n",
      "\n",
      "🔍 Final Test Loss: 0.0657\n"
     ]
    }
   ],
   "source": [
    "import numpy as np\n",
    "import tensorflow as tf\n",
    "from tensorflow.keras import layers, models\n",
    "from tensorflow.keras.datasets import mnist\n",
    "from sklearn.model_selection import train_test_split\n",
    "import matplotlib.pyplot as plt\n",
    "\n",
    "# Load the MNIST dataset\n",
    "(x_train, _), (x_test, _) = mnist.load_data()\n",
    "\n",
    "# Normalize the data to range [0, 1]\n",
    "x_train = x_train.astype('float32') / 255.0\n",
    "x_test = x_test.astype('float32') / 255.0\n",
    "\n",
    "# Reshape to (samples, 28, 28, 1) for CNN input\n",
    "x_train = x_train.reshape((-1, 28, 28, 1))\n",
    "x_test = x_test.reshape((-1, 28, 28, 1))\n",
    "\n",
    "print(\"All training data:\", x_train.shape)\n",
    "print(\"All test data:\", x_test.shape)\n",
    "\n",
    "# Split 70% for training and 30% for validation from training data\n",
    "x_train_sub, x_val = train_test_split(x_train, test_size=0.3, random_state=42)\n",
    "\n",
    "print(\"Final training data:\", x_train_sub.shape)\n",
    "print(\"Validation data:\", x_val.shape)\n",
    "\n",
    "# Build the encoder\n",
    "encoder = tf.keras.Sequential([\n",
    "    layers.Input(shape=(28, 28, 1)),                          # Input layer\n",
    "    layers.Conv2D(32, (3, 3), activation='relu', padding='same'),  # Conv layer 1\n",
    "    layers.MaxPooling2D((2, 2)),                                   # Downsample\n",
    "    layers.Conv2D(64, (3, 3), activation='relu', padding='same'),  # Conv layer 2\n",
    "    layers.MaxPooling2D((2, 2))                                    # Downsample again\n",
    "])\n",
    "\n",
    "# Build the decoder\n",
    "decoder = tf.keras.Sequential([\n",
    "    layers.Conv2DTranspose(64, (3, 3), strides=2, activation='relu', padding='same'),  # Upsample\n",
    "    layers.Conv2DTranspose(32, (3, 3), strides=2, activation='relu', padding='same'),  # Upsample\n",
    "    layers.Conv2D(1, (3, 3), activation='sigmoid', padding='same')                     # Final layer with sigmoid\n",
    "])\n",
    "\n",
    "# Combine encoder and decoder into the autoencoder\n",
    "autoencoder = tf.keras.Sequential([encoder, decoder])\n",
    "\n",
    "# Compile the model with optimizer and loss function\n",
    "autoencoder.compile(optimizer='adam', loss='binary_crossentropy')\n",
    "\n",
    "# Train the model using only training data (with validation split)\n",
    "history = autoencoder.fit(\n",
    "    x_train_sub, x_train_sub,         # Input = Output for autoencoder\n",
    "    epochs=10,\n",
    "    batch_size=256,\n",
    "    shuffle=True,\n",
    "    validation_data=(x_val, x_val)   # Validation data\n",
    ")\n",
    "\n",
    "# Plot training and validation loss\n",
    "plt.plot(history.history['loss'], label='Train Loss')\n",
    "plt.plot(history.history['val_loss'], label='Validation Loss')\n",
    "plt.title('Loss over Epochs')\n",
    "plt.xlabel('Epochs')\n",
    "plt.ylabel('Loss')\n",
    "plt.legend()\n",
    "plt.show()\n",
    "\n",
    "# Evaluate the final model on completely unseen test data\n",
    "test_loss = autoencoder.evaluate(x_test, x_test)\n",
    "print(f\"\\n🔍 Final Test Loss: {test_loss:.4f}\")\n"
   ]
  },
  {
   "cell_type": "code",
   "execution_count": 15,
   "metadata": {},
   "outputs": [
    {
     "data": {
      "image/png": "[encoded data removed]",
      "text/plain": [
       "<Figure size 576x288 with 2 Axes>"
      ]
     },
     "metadata": {
      "needs_background": "light"
     },
     "output_type": "display_data"
    }
   ],
   "source": [
    "# Select a test image (for example, index 1001)\n",
    "test_index = 300\n",
    "test_image = x_test[test_index]  # Get the test image from the dataset\n",
    "\n",
    "# Predict (reconstruct) the image using the autoencoder\n",
    "reconstructed_image = autoencoder.predict(test_image.reshape(1, 28, 28, 1))  # Reshape and feed to model\n",
    "\n",
    "# Create a figure with a specific size (8 inches by 4 inches)\n",
    "plt.figure(figsize=(8, 4))\n",
    "\n",
    "# Show the original image\n",
    "plt.subplot(1, 2, 1)  # First subplot in a 1x2 grid\n",
    "plt.imshow(test_image.squeeze(), cmap='gray')  # Remove single dimensions and use grayscale\n",
    "plt.title(f\"main  ({test_index})\")  # Set title showing the index\n",
    "\n",
    "# Show the reconstructed image\n",
    "plt.subplot(1, 2, 2)  # Second subplot in a 1x2 grid\n",
    "plt.imshow(reconstructed_image.squeeze(), cmap='gray')  # Remove single dimensions and use grayscale\n",
    "plt.title(\"reconstructed\")  # Title for reconstructed image\n",
    "\n",
    "# Display the figure\n",
    "plt.show()\n"
   ]
  },
  {
   "cell_type": "code",
   "execution_count": null,
   "metadata": {},
   "outputs": [],
   "source": []
  }
 ],
 "metadata": {
  "kernelspec": {
   "display_name": "Python 3",
   "language": "python",
   "name": "python3"
  },
  "language_info": {
   "codemirror_mode": {
    "name": "ipython",
    "version": 3
   },
   "file_extension": ".py",
   "mimetype": "text/x-python",
   "name": "python",
   "nbconvert_exporter": "python",
   "pygments_lexer": "ipython3",
   "version": "3.7.6"
  }
 },
 "nbformat": 4,
 "nbformat_minor": 4
}
